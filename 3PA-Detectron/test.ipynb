{
 "cells": [
  {
   "cell_type": "code",
   "execution_count": 20,
   "metadata": {},
   "outputs": [],
   "source": [
    "import json\n",
    "from deepdiff import DeepDiff # type: ignore\n",
    "\n",
    "\n",
    "def compare_json_files(file1_path, file2_path):\n",
    "    with open(file1_path, 'r') as file1, open(file2_path, 'r') as file2:\n",
    "        json1 = json.load(file1)\n",
    "        json2 = json.load(file2)\n",
    "    \n",
    "    diff = DeepDiff(json1, json2, ignore_order=True)\n",
    "    \n",
    "    if diff:\n",
    "        print(\"Differences found:\")\n",
    "        for change_type, details in diff.items():\n",
    "            if change_type == 'dictionary_item_added':\n",
    "                print(\"Added:\")\n",
    "                for key, value in details.items():\n",
    "                    print(f\"  '{key}': {value['new_value']}\")\n",
    "            elif change_type == 'dictionary_item_removed':\n",
    "                print(\"Removed:\")\n",
    "                for key, value in details.items():\n",
    "                    print(f\"  '{key}': {value['old_value']}\")\n",
    "            elif change_type == 'values_changed':\n",
    "                print(\"Changed:\")\n",
    "                for key, value in details.items():\n",
    "                    print(f\"  '{key}': {value['new_value']} (was {value['old_value']})\")\n",
    "    else:\n",
    "        print(\"The two JSON files are equivalent.\")"
   ]
  },
  {
   "cell_type": "code",
   "execution_count": 21,
   "metadata": {},
   "outputs": [
    {
     "name": "stdout",
     "output_type": "stream",
     "text": [
      "The two JSON files are equivalent.\n"
     ]
    }
   ],
   "source": [
    "\n",
    "file1_path = './src/Med3pa/Experiments/Results/profiles.json'\n",
    "file2_path = 'profiles.json'\n",
    "are_equivalent = compare_json_files(file1_path, file2_path)"
   ]
  },
  {
   "cell_type": "code",
   "execution_count": 22,
   "metadata": {},
   "outputs": [
    {
     "name": "stdout",
     "output_type": "stream",
     "text": [
      "Differences found:\n",
      "Changed:\n",
      "  'root['5']['100'][1]['metrics']['F1Score']': 0.6046511627906977 (was 0.6046511627906976)\n",
      "  'root['5']['99'][1]['metrics']['F1Score']': 0.6046511627906977 (was 0.6046511627906976)\n",
      "  'root['5']['99'][7]['metrics']['F1Score']': 0.34920634920634924 (was 0.3492063492063492)\n",
      "  'root['5']['99'][11]['metrics']['F1Score']': 0.7684964200477328 (was 0.7684964200477327)\n",
      "  'root['5']['98'][1]['metrics']['F1Score']': 0.6046511627906977 (was 0.6046511627906976)\n",
      "  'root['5']['98'][11]['metrics']['F1Score']': 0.7823960880195601 (was 0.78239608801956)\n",
      "  'root['5']['97'][1]['metrics']['F1Score']': 0.6046511627906977 (was 0.6046511627906976)\n",
      "  'root['5']['97'][8]['metrics']['F1Score']': 0.5714285714285715 (was 0.5714285714285714)\n",
      "  'root['5']['97'][10]['metrics']['F1Score']': 0.43750000000000006 (was 0.4375)\n",
      "  'root['5']['97'][11]['metrics']['F1Score']': 0.8060453400503778 (was 0.8060453400503779)\n",
      "  'root['5']['96'][1]['metrics']['F1Score']': 0.6046511627906977 (was 0.6046511627906976)\n",
      "  'root['5']['95'][1]['metrics']['F1Score']': 0.6046511627906977 (was 0.6046511627906976)\n",
      "  'root['5']['94'][1]['metrics']['F1Score']': 0.6046511627906977 (was 0.6046511627906976)\n",
      "  'root['5']['93'][9]['metrics']['F1Score']': 0.846376811594203 (was 0.8463768115942029)\n",
      "  'root['5']['91'][6]['metrics']['F1Score']': 0.8974358974358974 (was 0.8974358974358975)\n",
      "  'root['5']['90'][6]['metrics']['F1Score']': 0.8974358974358974 (was 0.8974358974358975)\n",
      "  'root['5']['89'][9]['metrics']['F1Score']': 0.8881355932203391 (was 0.888135593220339)\n",
      "  'root['5']['88'][1]['metrics']['F1Score']': 0.7200000000000001 (was 0.72)\n",
      "  'root['5']['88'][2]['metrics']['F1Score']': 0.9699248120300753 (was 0.9699248120300752)\n",
      "  'root['5']['88'][9]['metrics']['F1Score']': 0.9084507042253522 (was 0.9084507042253521)\n",
      "  'root['5']['87'][1]['metrics']['F1Score']': 0.7058823529411764 (was 0.7058823529411765)\n",
      "  'root['5']['87'][6]['metrics']['F1Score']': 0.9545454545454545 (was 0.9545454545454546)\n",
      "  'root['5']['86'][1]['metrics']['F1Score']': 0.5714285714285715 (was 0.5714285714285714)\n",
      "  'root['5']['81'][8]['metrics']['F1Score']': 0.9523809523809524 (was 0.9523809523809523)\n",
      "  'root['5']['75'][5]['metrics']['F1Score']': 0.9876543209876544 (was 0.9876543209876543)\n",
      "  'root['5']['75'][6]['metrics']['F1Score']': 0.9876543209876544 (was 0.9876543209876543)\n",
      "  'root['5']['73'][5]['metrics']['F1Score']': 0.9952606635071091 (was 0.995260663507109)\n",
      "  'root['5']['73'][6]['metrics']['F1Score']': 0.9952606635071091 (was 0.995260663507109)\n",
      "The two JSON files are equivalent: None\n"
     ]
    }
   ],
   "source": [
    "file1_path = './src/Med3pa/Experiments/Results/profiles_metrics.json'\n",
    "file2_path = 'profiles_metrics.json'\n",
    "are_equivalent = compare_json_files(file1_path, file2_path)\n",
    "print(\"The two JSON files are equivalent:\", are_equivalent)"
   ]
  },
  {
   "cell_type": "code",
   "execution_count": 23,
   "metadata": {},
   "outputs": [
    {
     "name": "stdout",
     "output_type": "stream",
     "text": [
      "Differences found:\n",
      "Changed:\n",
      "  'root['99']['Metrics']['F1Score']': 0.7684964200477328 (was 0.7684964200477327)\n",
      "  'root['98']['Metrics']['F1Score']': 0.7823960880195601 (was 0.78239608801956)\n",
      "  'root['97']['Metrics']['F1Score']': 0.8060453400503778 (was 0.8060453400503779)\n",
      "  'root['93']['Metrics']['F1Score']': 0.846376811594203 (was 0.8463768115942029)\n",
      "  'root['89']['Metrics']['F1Score']': 0.8881355932203391 (was 0.888135593220339)\n",
      "  'root['88']['Metrics']['F1Score']': 0.9084507042253522 (was 0.9084507042253521)\n",
      "  'root['81']['Metrics']['F1Score']': 0.9523809523809524 (was 0.9523809523809523)\n",
      "  'root['75']['Metrics']['F1Score']': 0.9876543209876544 (was 0.9876543209876543)\n",
      "  'root['73']['Metrics']['F1Score']': 0.9952606635071091 (was 0.995260663507109)\n"
     ]
    }
   ],
   "source": [
    "\n",
    "file1_path = './src/Med3pa/Experiments/Results/metrics_dr.json'\n",
    "file2_path = 'metrics_dr.json'\n",
    "are_equivalent = compare_json_files(file1_path, file2_path)"
   ]
  },
  {
   "cell_type": "code",
   "execution_count": 24,
   "metadata": {},
   "outputs": [],
   "source": [
    "# !pip install DeepDiff"
   ]
  },
  {
   "cell_type": "code",
   "execution_count": 25,
   "metadata": {},
   "outputs": [
    {
     "name": "stdout",
     "output_type": "stream",
     "text": [
      "The two JSON files are equivalent.\n"
     ]
    }
   ],
   "source": [
    "file1_path = './src/Med3pa/Experiments/Results/lost_profiles.json'\n",
    "file2_path = 'lost_profiles.json'\n",
    "are_equivalent = compare_json_files(file1_path, file2_path)"
   ]
  },
  {
   "cell_type": "code",
   "execution_count": null,
   "metadata": {},
   "outputs": [],
   "source": []
  }
 ],
 "metadata": {
  "kernelspec": {
   "display_name": "detect3paenv",
   "language": "python",
   "name": "python3"
  },
  "language_info": {
   "codemirror_mode": {
    "name": "ipython",
    "version": 3
   },
   "file_extension": ".py",
   "mimetype": "text/x-python",
   "name": "python",
   "nbconvert_exporter": "python",
   "pygments_lexer": "ipython3",
   "version": "3.12.3"
  }
 },
 "nbformat": 4,
 "nbformat_minor": 2
}
